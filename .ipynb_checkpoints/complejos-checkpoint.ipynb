{
 "cells": [
  {
   "cell_type": "code",
   "execution_count": null,
   "metadata": {},
   "outputs": [],
   "source": [
    "import pandas as pd\n",
    "import numpy as np\n",
    "import matplotlib.pyplot as plt"
   ]
  },
  {
   "cell_type": "code",
   "execution_count": null,
   "metadata": {},
   "outputs": [],
   "source": [
    "def resistencia(r):\n",
    "    impedancia = np.complex(r, 0)\n",
    "    print(\"Resistencia: {}\".format(impedancia))\n",
    "    return impedancia"
   ]
  },
  {
   "cell_type": "code",
   "execution_count": null,
   "metadata": {},
   "outputs": [],
   "source": [
    "def REACTANCIA(r):\n",
    "    impedancia = np.complex(0, r)\n",
    "    if(r < 0):\n",
    "        print(\"Capacitor: {}\".format(impedancia))\n",
    "    elif(r > 0):\n",
    "        print(\"Inductor: {}\".format(impedancia))\n",
    "    else:\n",
    "        raise ValueError(\"Valor de reactancia invalido\")\n",
    "    return impedancia"
   ]
  },
  {
   "cell_type": "code",
   "execution_count": 5,
   "metadata": {},
   "outputs": [
    {
     "name": "stdout",
     "output_type": "stream",
     "text": [
      "Resistencia: (4+0j)\n",
      "Resistencia: (1+0j)\n",
      "Capacitor: -1j\n",
      "Inductor: 2j\n",
      "Resistencia: (2+0j)\n"
     ]
    }
   ],
   "source": [
    "ZR1 = resistencia(4)\n",
    "ZR2 = resistencia(1)\n",
    "Zc = REACTANCIA(-1)\n",
    "Zl = REACTANCIA(2)\n",
    "ZR3 = resistencia(2)"
   ]
  },
  {
   "cell_type": "code",
   "execution_count": 6,
   "metadata": {},
   "outputs": [],
   "source": []
  },
  {
   "cell_type": "code",
   "execution_count": null,
   "metadata": {},
   "outputs": [],
   "source": []
  },
  {
   "cell_type": "code",
   "execution_count": null,
   "metadata": {},
   "outputs": [],
   "source": []
  },
  {
   "cell_type": "markdown",
   "metadata": {},
   "source": [
    "# Resolver sistema"
   ]
  },
  {
   "cell_type": "code",
   "execution_count": 7,
   "metadata": {},
   "outputs": [],
   "source": [
    "def resolver_sistema(rows_a, rows_b):\n",
    "    A = np.matrix(rows_a)\n",
    "    b = np.matrix(rows_b)\n",
    "    inverse = np.linalg.inv(A)\n",
    "    print(np.multiply(inverse, b)[:][0])\n",
    "    return np.dot(inverse, b)"
   ]
  },
  {
   "cell_type": "markdown",
   "metadata": {},
   "source": [
    "# 2x2"
   ]
  },
  {
   "cell_type": "code",
   "execution_count": 141,
   "metadata": {},
   "outputs": [],
   "source": [
    "#Array de filas: [row1, row2, ..., rowN]\n",
    "row1 = [YR1 + YR2 + Yc, -Yc]\n",
    "row2 = [-Yc-2, Yc + Yl]"
   ]
  },
  {
   "cell_type": "code",
   "execution_count": 142,
   "metadata": {},
   "outputs": [],
   "source": [
    "#row1=[np.complex(5, 0), np.complex(-1, 0)]\n",
    "#row2=[np.complex(-1, 4), np.complex(1, -3)]"
   ]
  },
  {
   "cell_type": "code",
   "execution_count": 143,
   "metadata": {},
   "outputs": [
    {
     "data": {
      "text/plain": [
       "[(1.25+1j), -1j]"
      ]
     },
     "execution_count": 143,
     "metadata": {},
     "output_type": "execute_result"
    }
   ],
   "source": [
    "row1"
   ]
  },
  {
   "cell_type": "code",
   "execution_count": 144,
   "metadata": {},
   "outputs": [
    {
     "data": {
      "text/plain": [
       "[(-2-1j), 0.5j]"
      ]
     },
     "execution_count": 144,
     "metadata": {},
     "output_type": "execute_result"
    }
   ],
   "source": [
    "row2"
   ]
  },
  {
   "cell_type": "code",
   "execution_count": 145,
   "metadata": {},
   "outputs": [],
   "source": [
    "b = [[6], [0]]"
   ]
  },
  {
   "cell_type": "code",
   "execution_count": 146,
   "metadata": {},
   "outputs": [
    {
     "name": "stdout",
     "output_type": "stream",
     "text": [
      "[[-1.9270073+0.70072993j -3.8540146+1.40145985j]]\n"
     ]
    },
    {
     "data": {
      "text/plain": [
       "matrix([[-1.9270073 +0.70072993j],\n",
       "        [-1.05109489+9.10948905j]])"
      ]
     },
     "execution_count": 146,
     "metadata": {},
     "output_type": "execute_result"
    }
   ],
   "source": [
    "res = resolver_sistema([row1, row2], b)\n",
    "res"
   ]
  },
  {
   "cell_type": "code",
   "execution_count": null,
   "metadata": {},
   "outputs": [],
   "source": []
  },
  {
   "cell_type": "code",
   "execution_count": 147,
   "metadata": {},
   "outputs": [],
   "source": [
    "V = np.complex(24, 0)\n",
    "Va = res[0, 0]\n",
    "Vb = res[1, 0]"
   ]
  },
  {
   "cell_type": "code",
   "execution_count": 148,
   "metadata": {},
   "outputs": [],
   "source": [
    "VR2 = Va\n",
    "Vl = Vb\n",
    "Vc = Va - Vb\n",
    "VR3 = -4*Va\n",
    "VR1 = V - Va"
   ]
  },
  {
   "cell_type": "code",
   "execution_count": 149,
   "metadata": {},
   "outputs": [],
   "source": [
    "i1 = VR1 / ZR1\n",
    "i2 = VR2 / ZR2\n",
    "i3 = -2*Va\n",
    "i4 = Vl/Zl\n",
    "i5 = Vc/Zc"
   ]
  },
  {
   "cell_type": "code",
   "execution_count": 150,
   "metadata": {},
   "outputs": [],
   "source": [
    "tensiones = [(V, \"V\", 'b'), (VR2, \"VR2\", 'b'), (Vl, \"Vl\", 'b'), (Vc, \"Vc\", 'b'), (VR3, \"VR3\", 'b'), \n",
    "                     (VR1, \"VR1\", 'b')]"
   ]
  },
  {
   "cell_type": "code",
   "execution_count": 151,
   "metadata": {},
   "outputs": [],
   "source": [
    "corrientes = [(i1, \"i1\", 'r'), (i2, \"i2\", 'r'), (i3, \"i3\", 'r'), (i4, \"i4\", 'r'), (i5, \"i5\", 'r')]"
   ]
  },
  {
   "cell_type": "code",
   "execution_count": null,
   "metadata": {},
   "outputs": [],
   "source": []
  },
  {
   "cell_type": "code",
   "execution_count": null,
   "metadata": {},
   "outputs": [],
   "source": []
  },
  {
   "cell_type": "code",
   "execution_count": null,
   "metadata": {},
   "outputs": [],
   "source": []
  },
  {
   "cell_type": "code",
   "execution_count": null,
   "metadata": {},
   "outputs": [],
   "source": []
  },
  {
   "cell_type": "code",
   "execution_count": null,
   "metadata": {},
   "outputs": [],
   "source": []
  },
  {
   "cell_type": "code",
   "execution_count": null,
   "metadata": {},
   "outputs": [],
   "source": []
  },
  {
   "cell_type": "markdown",
   "metadata": {},
   "source": [
    "# 3x3"
   ]
  },
  {
   "cell_type": "code",
   "execution_count": 72,
   "metadata": {},
   "outputs": [],
   "source": [
    "row1 = [np.complex(1.25, 1), np.complex(0, -1), 0]\n",
    "row2 = [np.complex(0, -1), np.complex(0.5, 0.5), -0.5]\n",
    "row3 = [-2, -0.5, 0.5]"
   ]
  },
  {
   "cell_type": "code",
   "execution_count": 73,
   "metadata": {},
   "outputs": [],
   "source": [
    "b = [[6], [0], [0]]"
   ]
  },
  {
   "cell_type": "code",
   "execution_count": 74,
   "metadata": {},
   "outputs": [
    {
     "name": "stdout",
     "output_type": "stream",
     "text": [
      "[[-1.9270073+0.70072993j -3.8540146+1.40145985j -3.8540146+1.40145985j]]\n"
     ]
    },
    {
     "data": {
      "text/plain": [
       "matrix([[-1.9270073+0.70072993j, -3.8540146+1.40145985j,\n",
       "         -3.8540146+1.40145985j],\n",
       "        [-0.       +0.j        , -0.       +0.j        ,\n",
       "         -0.       +0.j        ],\n",
       "        [-0.       +0.j        , -0.       +0.j        ,\n",
       "         -0.       +0.j        ]])"
      ]
     },
     "execution_count": 74,
     "metadata": {},
     "output_type": "execute_result"
    }
   ],
   "source": [
    "resolver_sistema([row1, row2, row3], b)"
   ]
  },
  {
   "cell_type": "code",
   "execution_count": null,
   "metadata": {},
   "outputs": [],
   "source": []
  },
  {
   "cell_type": "code",
   "execution_count": null,
   "metadata": {},
   "outputs": [],
   "source": []
  },
  {
   "cell_type": "code",
   "execution_count": null,
   "metadata": {},
   "outputs": [],
   "source": []
  },
  {
   "cell_type": "code",
   "execution_count": null,
   "metadata": {},
   "outputs": [],
   "source": []
  },
  {
   "cell_type": "markdown",
   "metadata": {},
   "source": [
    "# Ploteo fasores"
   ]
  },
  {
   "cell_type": "code",
   "execution_count": 152,
   "metadata": {},
   "outputs": [
    {
     "data": {
      "text/plain": [
       "11"
      ]
     },
     "execution_count": 152,
     "metadata": {},
     "output_type": "execute_result"
    }
   ],
   "source": [
    "len(tensiones + corrientes)"
   ]
  },
  {
   "cell_type": "code",
   "execution_count": 153,
   "metadata": {},
   "outputs": [
    {
     "data": {
      "image/png": "[encoded data removed]",
      "text/plain": [
       "<Figure size 1440x1440 with 1 Axes>"
      ]
     },
     "metadata": {
      "needs_background": "light"
     },
     "output_type": "display_data"
    }
   ],
   "source": [
    "fig, ax = plt.subplots(figsize=(20, 20)) \n",
    "\n",
    "\n",
    "x = [n_complex.real for (n_complex, name, _color) in tensiones + corrientes] \n",
    "y = [n_complex.imag for (n_complex, name, _color) in tensiones + corrientes] \n",
    "colors = [_color for (n_complex, name, _color) in tensiones + corrientes]    \n",
    "\n",
    "ax.scatter(x, y, c=colors)\n",
    "\n",
    "for (n_complex, name, _color) in tensiones + corrientes:\n",
    "    plt.annotate(name, xy=(0, 0), xytext=(1.02*n_complex.real, 1.02*n_complex.imag), horizontalalignment='center',\n",
    "    arrowprops=dict(color=_color, arrowstyle=\"<-\"))\n",
    "#plt.quiverkey(res, 0, 2, 2, 'keys')\n",
    "\n",
    "\n",
    "#plt.ylim((-10,10))\n",
    "#plt.xlim((-5,5)) \n",
    "plt.grid(True)\n",
    "plt.show()"
   ]
  },
  {
   "cell_type": "code",
   "execution_count": 154,
   "metadata": {},
   "outputs": [
    {
     "data": {
      "text/plain": [
       "-1j"
      ]
     },
     "execution_count": 154,
     "metadata": {},
     "output_type": "execute_result"
    }
   ],
   "source": [
    "Vc/i5"
   ]
  },
  {
   "cell_type": "code",
   "execution_count": null,
   "metadata": {},
   "outputs": [],
   "source": []
  },
  {
   "cell_type": "code",
   "execution_count": null,
   "metadata": {},
   "outputs": [],
   "source": []
  },
  {
   "cell_type": "markdown",
   "metadata": {},
   "source": [
    "# Potencias complejas"
   ]
  },
  {
   "cell_type": "code",
   "execution_count": 155,
   "metadata": {},
   "outputs": [],
   "source": [
    "V2 = Vb - VR3"
   ]
  },
  {
   "cell_type": "code",
   "execution_count": 156,
   "metadata": {},
   "outputs": [
    {
     "data": {
      "text/plain": [
       "(77.78102189781022+2.102189781021898j)"
      ]
     },
     "execution_count": 156,
     "metadata": {},
     "output_type": "execute_result"
    }
   ],
   "source": [
    "Sg = 0.5*V*i1.conj()\n",
    "Sg"
   ]
  },
  {
   "cell_type": "code",
   "execution_count": 157,
   "metadata": {},
   "outputs": [
    {
     "data": {
      "text/plain": [
       "(25.22627737226277-16.817518248175183j)"
      ]
     },
     "execution_count": 157,
     "metadata": {},
     "output_type": "execute_result"
    }
   ],
   "source": [
    "Sg2 = 0.5*V2*(-i3).conj()\n",
    "Sg2"
   ]
  },
  {
   "cell_type": "code",
   "execution_count": 158,
   "metadata": {},
   "outputs": [],
   "source": [
    "SR1 = 0.5*VR1*i1.conj()\n",
    "SR2 = 0.5*VR2*i2.conj()\n",
    "SR3 = 0.5*VR3*i3.conj()"
   ]
  },
  {
   "cell_type": "code",
   "execution_count": 159,
   "metadata": {},
   "outputs": [],
   "source": [
    "Sc = 0.5*Vc*i5.conj()\n",
    "Sl = 0.5*Vl*i4.conj()"
   ]
  },
  {
   "cell_type": "code",
   "execution_count": 160,
   "metadata": {},
   "outputs": [
    {
     "data": {
      "text/plain": [
       "(103.00729927007299+0j)"
      ]
     },
     "execution_count": 160,
     "metadata": {},
     "output_type": "execute_result"
    }
   ],
   "source": [
    "SR1+SR2+SR3"
   ]
  },
  {
   "cell_type": "code",
   "execution_count": 161,
   "metadata": {},
   "outputs": [
    {
     "data": {
      "text/plain": [
       "-14.715328467153288j"
      ]
     },
     "execution_count": 161,
     "metadata": {},
     "output_type": "execute_result"
    }
   ],
   "source": [
    "Sc + Sl"
   ]
  },
  {
   "cell_type": "code",
   "execution_count": 162,
   "metadata": {},
   "outputs": [
    {
     "data": {
      "text/plain": [
       "(103.00729927007299-14.715328467153284j)"
      ]
     },
     "execution_count": 162,
     "metadata": {},
     "output_type": "execute_result"
    }
   ],
   "source": [
    "Sg + Sg2"
   ]
  },
  {
   "cell_type": "code",
   "execution_count": null,
   "metadata": {},
   "outputs": [],
   "source": []
  },
  {
   "cell_type": "code",
   "execution_count": 132,
   "metadata": {},
   "outputs": [
    {
     "data": {
      "text/plain": [
       "(23.630769230769232-2.953846153846154j)"
      ]
     },
     "execution_count": 132,
     "metadata": {},
     "output_type": "execute_result"
    }
   ],
   "source": [
    "VR1"
   ]
  }
 ],
 "metadata": {
  "kernelspec": {
   "display_name": "Python 3",
   "language": "python",
   "name": "python3"
  },
  "language_info": {
   "codemirror_mode": {
    "name": "ipython",
    "version": 3
   },
   "file_extension": ".py",
   "mimetype": "text/x-python",
   "name": "python",
   "nbconvert_exporter": "python",
   "pygments_lexer": "ipython3",
   "version": "3.6.9"
  }
 },
 "nbformat": 4,
 "nbformat_minor": 4
}
