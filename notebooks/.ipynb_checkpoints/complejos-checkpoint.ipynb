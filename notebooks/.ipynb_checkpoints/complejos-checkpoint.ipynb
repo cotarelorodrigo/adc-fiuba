{
 "cells": [
  {
   "cell_type": "code",
   "execution_count": 2,
   "metadata": {},
   "outputs": [],
   "source": [
    "import pandas as pd\n",
    "import numpy as np\n",
    "import matplotlib.pyplot as plt"
   ]
  },
  {
   "cell_type": "code",
   "execution_count": 2,
   "metadata": {},
   "outputs": [],
   "source": [
    "def resistencia(r):\n",
    "    impedancia = np.complex(r, 0)\n",
    "    print(\"Resistencia: {}\".format(impedancia))\n",
    "    return impedancia"
   ]
  },
  {
   "cell_type": "code",
   "execution_count": 3,
   "metadata": {},
   "outputs": [],
   "source": [
    "def REACTANCIA(r):\n",
    "    impedancia = np.complex(0, r)\n",
    "    if(r < 0):\n",
    "        print(\"Capacitor: {}\".format(impedancia))\n",
    "    elif(r > 0):\n",
    "        print(\"Inductor: {}\".format(impedancia))\n",
    "    else:\n",
    "        raise ValueError(\"Valor de reactancia invalido\")\n",
    "    return impedancia"
   ]
  },
  {
   "cell_type": "code",
   "execution_count": 3,
   "metadata": {},
   "outputs": [],
   "source": [
    "i1 = np.complex(2.2, 0)\n",
    "i2 = np.complex(3, -0.44)\n",
    "i3= np.complex(-0.88, 0.44)"
   ]
  },
  {
   "cell_type": "code",
   "execution_count": 4,
   "metadata": {},
   "outputs": [],
   "source": [
    "R1 = np.complex(50, 0)\n",
    "C = np.complex(0, -50)\n",
    "L1 = np.complex(0, 40)\n",
    "R2 = np.complex(30, 0)\n",
    "Z = np.complex(-50, -150)"
   ]
  },
  {
   "cell_type": "code",
   "execution_count": 9,
   "metadata": {},
   "outputs": [
    {
     "data": {
      "text/plain": [
       "(110+110j)"
      ]
     },
     "execution_count": 9,
     "metadata": {},
     "output_type": "execute_result"
    }
   ],
   "source": [
    "i3*Z"
   ]
  },
  {
   "cell_type": "code",
   "execution_count": null,
   "metadata": {},
   "outputs": [],
   "source": []
  },
  {
   "cell_type": "code",
   "execution_count": 7,
   "metadata": {},
   "outputs": [
    {
     "data": {
      "text/plain": [
       "(220+0j)"
      ]
     },
     "execution_count": 7,
     "metadata": {},
     "output_type": "execute_result"
    }
   ],
   "source": [
    "V = np.complex(220, 0)\n",
    "V"
   ]
  },
  {
   "cell_type": "code",
   "execution_count": 8,
   "metadata": {},
   "outputs": [],
   "source": [
    "Vc1 = V\n",
    "VR3 = V"
   ]
  },
  {
   "cell_type": "code",
   "execution_count": 26,
   "metadata": {},
   "outputs": [],
   "source": [
    "i1 = Vc1/Zc1\n",
    "i2 = V/(Zc2 + ZR1)\n",
    "i3 = V/(Zl+ZR2)\n",
    "i4 = V/ZR3\n",
    "ig = i1+i2+i3+i4"
   ]
  },
  {
   "cell_type": "code",
   "execution_count": 27,
   "metadata": {},
   "outputs": [],
   "source": [
    "Vc2 = Zc2*i2\n",
    "VR1 = ZR1*i2\n",
    "Vl = Zl*i3\n",
    "VR2 = ZR2*i3"
   ]
  },
  {
   "cell_type": "code",
   "execution_count": 15,
   "metadata": {},
   "outputs": [],
   "source": [
    "tensiones = [(i1*R1, \"R1\", 'b'), (i1*C, \"C\", 'b'), (i2*R2, \"R2\", 'b'), (i2*L1, \"L\", 'b'), (i3*Z, \"Z\", 'b')]"
   ]
  },
  {
   "cell_type": "code",
   "execution_count": 16,
   "metadata": {},
   "outputs": [],
   "source": [
    "corrientes = [(i1, \"i1\", 'r'), (i2, \"i2\", 'r'), (i3, \"i3\", 'r')]"
   ]
  },
  {
   "cell_type": "code",
   "execution_count": 48,
   "metadata": {},
   "outputs": [
    {
     "data": {
      "text/plain": [
       "(55.337211130325414+95.45668919981134j)"
      ]
     },
     "execution_count": 48,
     "metadata": {},
     "output_type": "execute_result"
    }
   ],
   "source": [
    "VR1"
   ]
  },
  {
   "cell_type": "markdown",
   "metadata": {},
   "source": [
    "# Resolver sistema"
   ]
  },
  {
   "cell_type": "code",
   "execution_count": 11,
   "metadata": {},
   "outputs": [],
   "source": [
    "def resolver_sistema(rows_a, rows_b):\n",
    "    A = np.matrix(rows_a)\n",
    "    b = np.matrix(rows_b)\n",
    "    inverse = np.linalg.inv(A)\n",
    "    print(np.multiply(inverse, b)[:][0])\n",
    "    return np.dot(inverse, b)"
   ]
  },
  {
   "cell_type": "markdown",
   "metadata": {},
   "source": [
    "# 2x2"
   ]
  },
  {
   "cell_type": "code",
   "execution_count": 141,
   "metadata": {},
   "outputs": [],
   "source": [
    "#Array de filas: [row1, row2, ..., rowN]\n",
    "row1 = [YR1 + YR2 + Yc, -Yc]\n",
    "row2 = [-Yc-2, Yc + Yl]"
   ]
  },
  {
   "cell_type": "code",
   "execution_count": 142,
   "metadata": {},
   "outputs": [],
   "source": [
    "#row1=[np.complex(5, 0), np.complex(-1, 0)]\n",
    "#row2=[np.complex(-1, 4), np.complex(1, -3)]"
   ]
  },
  {
   "cell_type": "code",
   "execution_count": 143,
   "metadata": {},
   "outputs": [
    {
     "data": {
      "text/plain": [
       "[(1.25+1j), -1j]"
      ]
     },
     "execution_count": 143,
     "metadata": {},
     "output_type": "execute_result"
    }
   ],
   "source": [
    "row1"
   ]
  },
  {
   "cell_type": "code",
   "execution_count": 144,
   "metadata": {},
   "outputs": [
    {
     "data": {
      "text/plain": [
       "[(-2-1j), 0.5j]"
      ]
     },
     "execution_count": 144,
     "metadata": {},
     "output_type": "execute_result"
    }
   ],
   "source": [
    "row2"
   ]
  },
  {
   "cell_type": "code",
   "execution_count": 145,
   "metadata": {},
   "outputs": [],
   "source": [
    "b = [[6], [0]]"
   ]
  },
  {
   "cell_type": "code",
   "execution_count": 146,
   "metadata": {},
   "outputs": [
    {
     "name": "stdout",
     "output_type": "stream",
     "text": [
      "[[-1.9270073+0.70072993j -3.8540146+1.40145985j]]\n"
     ]
    },
    {
     "data": {
      "text/plain": [
       "matrix([[-1.9270073 +0.70072993j],\n",
       "        [-1.05109489+9.10948905j]])"
      ]
     },
     "execution_count": 146,
     "metadata": {},
     "output_type": "execute_result"
    }
   ],
   "source": [
    "res = resolver_sistema([row1, row2], b)\n",
    "res"
   ]
  },
  {
   "cell_type": "code",
   "execution_count": null,
   "metadata": {},
   "outputs": [],
   "source": []
  },
  {
   "cell_type": "code",
   "execution_count": 147,
   "metadata": {},
   "outputs": [],
   "source": [
    "V = np.complex(24, 0)\n",
    "Va = res[0, 0]\n",
    "Vb = res[1, 0]"
   ]
  },
  {
   "cell_type": "code",
   "execution_count": 148,
   "metadata": {},
   "outputs": [],
   "source": [
    "VR2 = Va\n",
    "Vl = Vb\n",
    "Vc = Va - Vb\n",
    "VR3 = -4*Va\n",
    "VR1 = V - Va"
   ]
  },
  {
   "cell_type": "code",
   "execution_count": 149,
   "metadata": {},
   "outputs": [],
   "source": [
    "i1 = VR1 / ZR1\n",
    "i2 = VR2 / ZR2\n",
    "i3 = -2*Va\n",
    "i4 = Vl/Zl\n",
    "i5 = Vc/Zc"
   ]
  },
  {
   "cell_type": "code",
   "execution_count": 150,
   "metadata": {},
   "outputs": [],
   "source": [
    "tensiones = [(V, \"V\", 'b'), (VR2, \"VR2\", 'b'), (Vl, \"Vl\", 'b'), (Vc, \"Vc\", 'b'), (VR3, \"VR3\", 'b'), \n",
    "                     (VR1, \"VR1\", 'b')]\n",
    "corrientes = [(i1, \"i1\", 'r'), (i2, \"i2\", 'r'), (i3, \"i3\", 'r'), (i4, \"i4\", 'r'), (i5, \"i5\", 'r')]"
   ]
  },
  {
   "cell_type": "code",
   "execution_count": null,
   "metadata": {},
   "outputs": [],
   "source": []
  },
  {
   "cell_type": "code",
   "execution_count": null,
   "metadata": {},
   "outputs": [],
   "source": []
  },
  {
   "cell_type": "code",
   "execution_count": null,
   "metadata": {},
   "outputs": [],
   "source": []
  },
  {
   "cell_type": "code",
   "execution_count": null,
   "metadata": {},
   "outputs": [],
   "source": []
  },
  {
   "cell_type": "code",
   "execution_count": null,
   "metadata": {},
   "outputs": [],
   "source": []
  },
  {
   "cell_type": "code",
   "execution_count": null,
   "metadata": {},
   "outputs": [],
   "source": []
  },
  {
   "cell_type": "markdown",
   "metadata": {},
   "source": [
    "# 3x3"
   ]
  },
  {
   "cell_type": "code",
   "execution_count": 5,
   "metadata": {},
   "outputs": [],
   "source": [
    "row1 = [Zc + ZR1, -Zc-ZR1, 0]\n",
    "row2 = [-Zc-ZR1, Zc+ZR1+Zl+ZR2, -Zl-ZR2]\n",
    "row3 = [0, -Zl-ZR2, Zl+ZR2+ZR3]"
   ]
  },
  {
   "cell_type": "code",
   "execution_count": 6,
   "metadata": {},
   "outputs": [
    {
     "data": {
      "text/plain": [
       "[(80-5j), (-80+5j), 0]"
      ]
     },
     "execution_count": 6,
     "metadata": {},
     "output_type": "execute_result"
    }
   ],
   "source": [
    "row1"
   ]
  },
  {
   "cell_type": "code",
   "execution_count": 7,
   "metadata": {},
   "outputs": [
    {
     "data": {
      "text/plain": [
       "[(-80+5j), (200+65j), (-120-70j)]"
      ]
     },
     "execution_count": 7,
     "metadata": {},
     "output_type": "execute_result"
    }
   ],
   "source": [
    "row2"
   ]
  },
  {
   "cell_type": "code",
   "execution_count": 8,
   "metadata": {},
   "outputs": [
    {
     "data": {
      "text/plain": [
       "[0, (-120-70j), (180+70j)]"
      ]
     },
     "execution_count": 8,
     "metadata": {},
     "output_type": "execute_result"
    }
   ],
   "source": [
    "row3"
   ]
  },
  {
   "cell_type": "code",
   "execution_count": 9,
   "metadata": {},
   "outputs": [],
   "source": [
    "b = [[220], [0], [0]]"
   ]
  },
  {
   "cell_type": "code",
   "execution_count": 12,
   "metadata": {},
   "outputs": [
    {
     "name": "stdout",
     "output_type": "stream",
     "text": [
      "[[7.77384193-0.62672124j 5.03454231-0.79792746j 3.66666667+0.j        ]]\n"
     ]
    },
    {
     "data": {
      "text/plain": [
       "matrix([[7.77384193-0.62672124j],\n",
       "        [5.03454231-0.79792746j],\n",
       "        [3.66666667+0.j        ]])"
      ]
     },
     "execution_count": 12,
     "metadata": {},
     "output_type": "execute_result"
    }
   ],
   "source": [
    "res = resolver_sistema([row1, row2, row3], b)\n",
    "res"
   ]
  },
  {
   "cell_type": "code",
   "execution_count": 13,
   "metadata": {},
   "outputs": [],
   "source": [
    "i1 = res[0, 0]\n",
    "i2 = res[1, 0]\n",
    "i3 = res[2, 0]"
   ]
  },
  {
   "cell_type": "code",
   "execution_count": 16,
   "metadata": {},
   "outputs": [
    {
     "data": {
      "text/plain": [
       "(3.6666666666666665+0j)"
      ]
     },
     "execution_count": 16,
     "metadata": {},
     "output_type": "execute_result"
    }
   ],
   "source": [
    "i3"
   ]
  },
  {
   "cell_type": "code",
   "execution_count": 18,
   "metadata": {},
   "outputs": [
    {
     "data": {
      "text/plain": [
       "(220+0j)"
      ]
     },
     "execution_count": 18,
     "metadata": {},
     "output_type": "execute_result"
    }
   ],
   "source": [
    "V = np.complex(220, 0)\n",
    "V"
   ]
  },
  {
   "cell_type": "code",
   "execution_count": 19,
   "metadata": {},
   "outputs": [
    {
     "data": {
      "text/plain": [
       "(1710.2452235506007+137.8786718009718j)"
      ]
     },
     "execution_count": 19,
     "metadata": {},
     "output_type": "execute_result"
    }
   ],
   "source": [
    "V*i1.conj()"
   ]
  },
  {
   "cell_type": "code",
   "execution_count": null,
   "metadata": {},
   "outputs": [],
   "source": []
  },
  {
   "cell_type": "code",
   "execution_count": null,
   "metadata": {},
   "outputs": [],
   "source": []
  },
  {
   "cell_type": "code",
   "execution_count": null,
   "metadata": {},
   "outputs": [],
   "source": []
  },
  {
   "cell_type": "markdown",
   "metadata": {},
   "source": [
    "# Ploteo fasores"
   ]
  },
  {
   "cell_type": "code",
   "execution_count": 17,
   "metadata": {},
   "outputs": [
    {
     "data": {
      "text/plain": [
       "8"
      ]
     },
     "execution_count": 17,
     "metadata": {},
     "output_type": "execute_result"
    }
   ],
   "source": [
    "len(tensiones + corrientes)"
   ]
  },
  {
   "cell_type": "code",
   "execution_count": 18,
   "metadata": {},
   "outputs": [
    {
     "data": {
      "image/png": "[encoded data removed]",
      "text/plain": [
       "<Figure size 1440x1440 with 1 Axes>"
      ]
     },
     "metadata": {
      "needs_background": "light"
     },
     "output_type": "display_data"
    }
   ],
   "source": [
    "fig, ax = plt.subplots(figsize=(20, 20)) \n",
    "\n",
    "\n",
    "x = [n_complex.real for (n_complex, name, _color) in tensiones + corrientes] \n",
    "y = [n_complex.imag for (n_complex, name, _color) in tensiones + corrientes] \n",
    "colors = [_color for (n_complex, name, _color) in tensiones + corrientes]    \n",
    "\n",
    "ax.scatter(x, y, c=colors)\n",
    "\n",
    "for (n_complex, name, _color) in tensiones + corrientes:\n",
    "    plt.annotate(name, xy=(0, 0), xytext=(1.02*n_complex.real, 1.02*n_complex.imag), horizontalalignment='center',\n",
    "    arrowprops=dict(color=_color, arrowstyle=\"<-\"))\n",
    "#plt.quiverkey(res, 0, 2, 2, 'keys')\n",
    "\n",
    "\n",
    "#plt.ylim((-10,10))\n",
    "#plt.xlim((-5,5)) \n",
    "plt.grid(True)\n",
    "plt.show()"
   ]
  },
  {
   "cell_type": "code",
   "execution_count": 31,
   "metadata": {},
   "outputs": [
    {
     "data": {
      "text/plain": [
       "[((220+0j), 'V', 'b'),\n",
       " ((164.66278886967456-95.45668919981134j), 'Vc2', 'b'),\n",
       " ((55.337211130325414+95.45668919981134j), 'VR1', 'b'),\n",
       " ((55.85492227979275+95.75129533678756j), 'Vl', 'b'),\n",
       " ((164.14507772020724-95.75129533678758j), 'VR2', 'b')]"
      ]
     },
     "execution_count": 31,
     "metadata": {},
     "output_type": "execute_result"
    }
   ],
   "source": [
    "tensiones"
   ]
  },
  {
   "cell_type": "code",
   "execution_count": null,
   "metadata": {},
   "outputs": [],
   "source": []
  },
  {
   "cell_type": "code",
   "execution_count": null,
   "metadata": {},
   "outputs": [],
   "source": []
  },
  {
   "cell_type": "markdown",
   "metadata": {},
   "source": [
    "# Potencias complejas"
   ]
  },
  {
   "cell_type": "code",
   "execution_count": 155,
   "metadata": {},
   "outputs": [],
   "source": [
    "V2 = Vb - VR3"
   ]
  },
  {
   "cell_type": "code",
   "execution_count": 156,
   "metadata": {},
   "outputs": [
    {
     "data": {
      "text/plain": [
       "(77.78102189781022+2.102189781021898j)"
      ]
     },
     "execution_count": 156,
     "metadata": {},
     "output_type": "execute_result"
    }
   ],
   "source": [
    "Sg = 0.5*V*i1.conj()\n",
    "Sg"
   ]
  },
  {
   "cell_type": "code",
   "execution_count": 157,
   "metadata": {},
   "outputs": [
    {
     "data": {
      "text/plain": [
       "(25.22627737226277-16.817518248175183j)"
      ]
     },
     "execution_count": 157,
     "metadata": {},
     "output_type": "execute_result"
    }
   ],
   "source": [
    "Sg2 = 0.5*V2*(-i3).conj()\n",
    "Sg2"
   ]
  },
  {
   "cell_type": "code",
   "execution_count": 158,
   "metadata": {},
   "outputs": [],
   "source": [
    "SR1 = 0.5*VR1*i1.conj()\n",
    "SR2 = 0.5*VR2*i2.conj()\n",
    "SR3 = 0.5*VR3*i3.conj()"
   ]
  },
  {
   "cell_type": "code",
   "execution_count": 159,
   "metadata": {},
   "outputs": [],
   "source": [
    "Sc = 0.5*Vc*i5.conj()\n",
    "Sl = 0.5*Vl*i4.conj()"
   ]
  },
  {
   "cell_type": "code",
   "execution_count": 160,
   "metadata": {},
   "outputs": [
    {
     "data": {
      "text/plain": [
       "(103.00729927007299+0j)"
      ]
     },
     "execution_count": 160,
     "metadata": {},
     "output_type": "execute_result"
    }
   ],
   "source": [
    "SR1+SR2+SR3"
   ]
  },
  {
   "cell_type": "code",
   "execution_count": 161,
   "metadata": {},
   "outputs": [
    {
     "data": {
      "text/plain": [
       "-14.715328467153288j"
      ]
     },
     "execution_count": 161,
     "metadata": {},
     "output_type": "execute_result"
    }
   ],
   "source": [
    "Sc + Sl"
   ]
  },
  {
   "cell_type": "code",
   "execution_count": 162,
   "metadata": {},
   "outputs": [
    {
     "data": {
      "text/plain": [
       "(103.00729927007299-14.715328467153284j)"
      ]
     },
     "execution_count": 162,
     "metadata": {},
     "output_type": "execute_result"
    }
   ],
   "source": [
    "Sg + Sg2"
   ]
  },
  {
   "cell_type": "code",
   "execution_count": null,
   "metadata": {},
   "outputs": [],
   "source": []
  },
  {
   "cell_type": "code",
   "execution_count": 132,
   "metadata": {},
   "outputs": [
    {
     "data": {
      "text/plain": [
       "(23.630769230769232-2.953846153846154j)"
      ]
     },
     "execution_count": 132,
     "metadata": {},
     "output_type": "execute_result"
    }
   ],
   "source": [
    "VR1"
   ]
  }
 ],
 "metadata": {
  "kernelspec": {
   "display_name": "Python 3",
   "language": "python",
   "name": "python3"
  },
  "language_info": {
   "codemirror_mode": {
    "name": "ipython",
    "version": 3
   },
   "file_extension": ".py",
   "mimetype": "text/x-python",
   "name": "python",
   "nbconvert_exporter": "python",
   "pygments_lexer": "ipython3",
   "version": "3.6.8"
  }
 },
 "nbformat": 4,
 "nbformat_minor": 4
}
